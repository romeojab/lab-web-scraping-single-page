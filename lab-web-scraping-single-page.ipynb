{
 "cells": [
  {
   "cell_type": "code",
   "execution_count": 4,
   "id": "047a5b22",
   "metadata": {},
   "outputs": [],
   "source": [
    "from bs4 import BeautifulSoup\n",
    "import requests\n",
    "import pandas as pd"
   ]
  },
  {
   "cell_type": "code",
   "execution_count": 5,
   "id": "a2bcb56d",
   "metadata": {},
   "outputs": [],
   "source": [
    "url = \"https://www.officialcharts.com/charts/singles-chart\""
   ]
  },
  {
   "cell_type": "code",
   "execution_count": 6,
   "id": "85c1e2ae",
   "metadata": {},
   "outputs": [
    {
     "data": {
      "text/plain": [
       "200"
      ]
     },
     "execution_count": 6,
     "metadata": {},
     "output_type": "execute_result"
    }
   ],
   "source": [
    "response = requests.get(url)\n",
    "response.status_code"
   ]
  },
  {
   "cell_type": "code",
   "execution_count": 7,
   "id": "7453a350",
   "metadata": {},
   "outputs": [],
   "source": [
    "soup = BeautifulSoup(response.content, \"html.parser\")"
   ]
  },
  {
   "cell_type": "code",
   "execution_count": 8,
   "id": "23a1494d",
   "metadata": {},
   "outputs": [],
   "source": [
    "#soup"
   ]
  },
  {
   "cell_type": "code",
   "execution_count": 9,
   "id": "b19ef351",
   "metadata": {},
   "outputs": [
    {
     "data": {
      "text/plain": [
       "[]"
      ]
     },
     "execution_count": 9,
     "metadata": {},
     "output_type": "execute_result"
    }
   ],
   "source": [
    "soup.select(\"#main > div > div.grid__cell.unit-2-3--desktop > table > tbody > tr:nth-child(2) > td:nth-child(3) > div > div.title-artist\")\n",
    "#main > article > div > div.grid__cell.unit-2-3--desktop > section > table > tbody > tr:nth-child(2) > td:nth-child(3) > div > div.title-artist\n"
   ]
  },
  {
   "cell_type": "code",
   "execution_count": 10,
   "id": "6edd3780",
   "metadata": {},
   "outputs": [],
   "source": [
    "#main > div > span > div > div > div.lister > table > tbody > tr:nth-child(1) > td.titleColumn\n",
    "#main > div > span > div > div > div.lister > table > tbody > tr:nth-child(1) > td.titleColumn"
   ]
  },
  {
   "cell_type": "code",
   "execution_count": 11,
   "id": "1df7ca44",
   "metadata": {},
   "outputs": [],
   "source": [
    "#soup.select(\"#main > article > div > div.grid__cell.unit-2-3--desktop > section\")"
   ]
  },
  {
   "cell_type": "code",
   "execution_count": 12,
   "id": "41a20ca6",
   "metadata": {},
   "outputs": [],
   "source": [
    "#soup.select(\"#main > article > div > div.grid__cell.unit-2-3--desktop > section > table > tbody > tr:nth-child(2) > td:nth-child(3)\")\n",
    "#soup.select(\".title-artist\")"
   ]
  },
  {
   "cell_type": "code",
   "execution_count": 13,
   "id": "f38e12ad",
   "metadata": {},
   "outputs": [],
   "source": [
    "song_soup = soup.select(\".title-artist a\")"
   ]
  },
  {
   "cell_type": "code",
   "execution_count": 14,
   "id": "642600e3",
   "metadata": {},
   "outputs": [
    {
     "name": "stdout",
     "output_type": "stream",
     "text": [
      "AS IT WAS\n",
      "HARRY STYLES\n"
     ]
    }
   ],
   "source": [
    "print(soup.select(\".title-artist a\")[0].get_text())\n",
    "print(soup.select(\".title-artist a\")[1].get_text())"
   ]
  },
  {
   "cell_type": "code",
   "execution_count": 15,
   "id": "ac8404ef",
   "metadata": {},
   "outputs": [
    {
     "data": {
      "text/plain": [
       "200"
      ]
     },
     "execution_count": 15,
     "metadata": {},
     "output_type": "execute_result"
    }
   ],
   "source": [
    "#(soup.select(\".title-artist a\")[0]) & (soup.select(\".title-artist a\")[1])\n",
    "#song_soup[0][0].find(\"href\", string = \"artist\").parent.select('tr td a')\n",
    "#[0].get_text()\n",
    "len(song_soup)"
   ]
  },
  {
   "cell_type": "code",
   "execution_count": 16,
   "id": "7cbaa1c4",
   "metadata": {},
   "outputs": [],
   "source": [
    "start = 0\n",
    "end = 200\n",
    "odds = []\n",
    "evens = []     \n",
    "num_iter = len(song_soup)   \n",
    "title = []\n",
    "song = []\n",
    "for num in range(start, end):\n",
    "    if num % 2 != 0:\n",
    "        odds.append(num)\n",
    "        \n",
    "for num in range(start, end):\n",
    "      \n",
    "    # checking condition\n",
    "    if num % 2 == 0:\n",
    "        evens.append(num)\n",
    "\n",
    "for i in odds:\n",
    "    title.append(soup.select(\".title-artist a\")[i].get_text())\n",
    "# print(title)\n",
    "# len(title)\n",
    "\n",
    "for i in evens:\n",
    "    song.append(soup.select(\".title-artist a\")[i].get_text())\n",
    "# print(song)\n",
    "# len(song)\n",
    "\n",
    "song_artist = pd.DataFrame({\"artist\":title,\"song\":song})\n",
    "\n",
    "# To lowercase columns\n",
    "# for i in song_artist.columns:\n",
    "#     i.lower()\n",
    "# song_artist.columns"
   ]
  },
  {
   "cell_type": "code",
   "execution_count": 17,
   "id": "da8d44f4",
   "metadata": {},
   "outputs": [
    {
     "name": "stdout",
     "output_type": "stream",
     "text": [
      "100\n"
     ]
    },
    {
     "data": {
      "text/html": [
       "<div>\n",
       "<style scoped>\n",
       "    .dataframe tbody tr th:only-of-type {\n",
       "        vertical-align: middle;\n",
       "    }\n",
       "\n",
       "    .dataframe tbody tr th {\n",
       "        vertical-align: top;\n",
       "    }\n",
       "\n",
       "    .dataframe thead th {\n",
       "        text-align: right;\n",
       "    }\n",
       "</style>\n",
       "<table border=\"1\" class=\"dataframe\">\n",
       "  <thead>\n",
       "    <tr style=\"text-align: right;\">\n",
       "      <th></th>\n",
       "      <th>artist</th>\n",
       "      <th>song</th>\n",
       "    </tr>\n",
       "  </thead>\n",
       "  <tbody>\n",
       "    <tr>\n",
       "      <th>0</th>\n",
       "      <td>HARRY STYLES</td>\n",
       "      <td>AS IT WAS</td>\n",
       "    </tr>\n",
       "    <tr>\n",
       "      <th>1</th>\n",
       "      <td>JACK HARLOW</td>\n",
       "      <td>FIRST CLASS</td>\n",
       "    </tr>\n",
       "    <tr>\n",
       "      <th>2</th>\n",
       "      <td>CAT BURNS</td>\n",
       "      <td>GO</td>\n",
       "    </tr>\n",
       "    <tr>\n",
       "      <th>3</th>\n",
       "      <td>AITCH/ASHANTI</td>\n",
       "      <td>BABY</td>\n",
       "    </tr>\n",
       "    <tr>\n",
       "      <th>4</th>\n",
       "      <td>DAVE</td>\n",
       "      <td>STARLIGHT</td>\n",
       "    </tr>\n",
       "    <tr>\n",
       "      <th>...</th>\n",
       "      <td>...</td>\n",
       "      <td>...</td>\n",
       "    </tr>\n",
       "    <tr>\n",
       "      <th>95</th>\n",
       "      <td>WET LEG</td>\n",
       "      <td>CHAISE LONGUE</td>\n",
       "    </tr>\n",
       "    <tr>\n",
       "      <th>96</th>\n",
       "      <td>EMINEM</td>\n",
       "      <td>THE REAL SLIM SHADY</td>\n",
       "    </tr>\n",
       "    <tr>\n",
       "      <th>97</th>\n",
       "      <td>PUSHA T/KANYE WEST/KID CUDI</td>\n",
       "      <td>ROCK N ROLL</td>\n",
       "    </tr>\n",
       "    <tr>\n",
       "      <th>98</th>\n",
       "      <td>DAVE FT BURNA BOY</td>\n",
       "      <td>LOCATION</td>\n",
       "    </tr>\n",
       "    <tr>\n",
       "      <th>99</th>\n",
       "      <td>LEWIS CAPALDI</td>\n",
       "      <td>SOMEONE YOU LOVED</td>\n",
       "    </tr>\n",
       "  </tbody>\n",
       "</table>\n",
       "<p>100 rows × 2 columns</p>\n",
       "</div>"
      ],
      "text/plain": [
       "                         artist                 song\n",
       "0                  HARRY STYLES            AS IT WAS\n",
       "1                   JACK HARLOW          FIRST CLASS\n",
       "2                     CAT BURNS                   GO\n",
       "3                 AITCH/ASHANTI                 BABY\n",
       "4                          DAVE            STARLIGHT\n",
       "..                          ...                  ...\n",
       "95                      WET LEG        CHAISE LONGUE\n",
       "96                       EMINEM  THE REAL SLIM SHADY\n",
       "97  PUSHA T/KANYE WEST/KID CUDI          ROCK N ROLL\n",
       "98            DAVE FT BURNA BOY             LOCATION\n",
       "99                LEWIS CAPALDI    SOMEONE YOU LOVED\n",
       "\n",
       "[100 rows x 2 columns]"
      ]
     },
     "execution_count": 17,
     "metadata": {},
     "output_type": "execute_result"
    }
   ],
   "source": [
    "print(len(song_artist))\n",
    "song_artist.head(100)"
   ]
  },
  {
   "cell_type": "code",
   "execution_count": 18,
   "id": "fed8b94a",
   "metadata": {},
   "outputs": [
    {
     "data": {
      "text/html": [
       "<div>\n",
       "<style scoped>\n",
       "    .dataframe tbody tr th:only-of-type {\n",
       "        vertical-align: middle;\n",
       "    }\n",
       "\n",
       "    .dataframe tbody tr th {\n",
       "        vertical-align: top;\n",
       "    }\n",
       "\n",
       "    .dataframe thead th {\n",
       "        text-align: right;\n",
       "    }\n",
       "</style>\n",
       "<table border=\"1\" class=\"dataframe\">\n",
       "  <thead>\n",
       "    <tr style=\"text-align: right;\">\n",
       "      <th></th>\n",
       "      <th>artist</th>\n",
       "      <th>song</th>\n",
       "    </tr>\n",
       "  </thead>\n",
       "  <tbody>\n",
       "    <tr>\n",
       "      <th>0</th>\n",
       "      <td>harry styles</td>\n",
       "      <td>as it was</td>\n",
       "    </tr>\n",
       "    <tr>\n",
       "      <th>1</th>\n",
       "      <td>jack harlow</td>\n",
       "      <td>first class</td>\n",
       "    </tr>\n",
       "    <tr>\n",
       "      <th>2</th>\n",
       "      <td>cat burns</td>\n",
       "      <td>go</td>\n",
       "    </tr>\n",
       "    <tr>\n",
       "      <th>3</th>\n",
       "      <td>aitch/ashanti</td>\n",
       "      <td>baby</td>\n",
       "    </tr>\n",
       "    <tr>\n",
       "      <th>4</th>\n",
       "      <td>dave</td>\n",
       "      <td>starlight</td>\n",
       "    </tr>\n",
       "    <tr>\n",
       "      <th>...</th>\n",
       "      <td>...</td>\n",
       "      <td>...</td>\n",
       "    </tr>\n",
       "    <tr>\n",
       "      <th>95</th>\n",
       "      <td>wet leg</td>\n",
       "      <td>chaise longue</td>\n",
       "    </tr>\n",
       "    <tr>\n",
       "      <th>96</th>\n",
       "      <td>eminem</td>\n",
       "      <td>the real slim shady</td>\n",
       "    </tr>\n",
       "    <tr>\n",
       "      <th>97</th>\n",
       "      <td>pusha t/kanye west/kid cudi</td>\n",
       "      <td>rock n roll</td>\n",
       "    </tr>\n",
       "    <tr>\n",
       "      <th>98</th>\n",
       "      <td>dave ft burna boy</td>\n",
       "      <td>location</td>\n",
       "    </tr>\n",
       "    <tr>\n",
       "      <th>99</th>\n",
       "      <td>lewis capaldi</td>\n",
       "      <td>someone you loved</td>\n",
       "    </tr>\n",
       "  </tbody>\n",
       "</table>\n",
       "<p>100 rows × 2 columns</p>\n",
       "</div>"
      ],
      "text/plain": [
       "                         artist                 song\n",
       "0                  harry styles            as it was\n",
       "1                   jack harlow          first class\n",
       "2                     cat burns                   go\n",
       "3                 aitch/ashanti                 baby\n",
       "4                          dave            starlight\n",
       "..                          ...                  ...\n",
       "95                      wet leg        chaise longue\n",
       "96                       eminem  the real slim shady\n",
       "97  pusha t/kanye west/kid cudi          rock n roll\n",
       "98            dave ft burna boy             location\n",
       "99                lewis capaldi    someone you loved\n",
       "\n",
       "[100 rows x 2 columns]"
      ]
     },
     "execution_count": 18,
     "metadata": {},
     "output_type": "execute_result"
    }
   ],
   "source": [
    "song_artist = song_artist.applymap(lambda s:s.lower() if type(s) == str else s)\n",
    "song_artist"
   ]
  },
  {
   "cell_type": "code",
   "execution_count": 19,
   "id": "c54d19ee",
   "metadata": {},
   "outputs": [],
   "source": [
    "song_artist.to_csv('song_artist.csv', index=False)"
   ]
  }
 ],
 "metadata": {
  "kernelspec": {
   "display_name": "Python 3 (ipykernel)",
   "language": "python",
   "name": "python3"
  },
  "language_info": {
   "codemirror_mode": {
    "name": "ipython",
    "version": 3
   },
   "file_extension": ".py",
   "mimetype": "text/x-python",
   "name": "python",
   "nbconvert_exporter": "python",
   "pygments_lexer": "ipython3",
   "version": "3.9.7"
  }
 },
 "nbformat": 4,
 "nbformat_minor": 5
}
